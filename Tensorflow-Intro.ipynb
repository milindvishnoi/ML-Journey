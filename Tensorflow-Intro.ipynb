{
  "nbformat": 4,
  "nbformat_minor": 0,
  "metadata": {
    "colab": {
      "name": "GettingStarted.ipynb",
      "provenance": [],
      "collapsed_sections": [],
      "authorship_tag": "ABX9TyNaY9BMrL3VFDXz6Qhcr16m"
    },
    "kernelspec": {
      "name": "python3",
      "display_name": "Python 3"
    },
    "language_info": {
      "name": "python"
    }
  },
  "cells": [
    {
      "cell_type": "code",
      "metadata": {
        "id": "ENXo2B1qRWEB"
      },
      "source": [
        "# This is used to tell google collaborate to use Tenserflow\n",
        "%tensorflow_version 2.x"
      ],
      "execution_count": 4,
      "outputs": []
    },
    {
      "cell_type": "code",
      "metadata": {
        "colab": {
          "base_uri": "https://localhost:8080/"
        },
        "id": "lf-XeTrSTZGi",
        "outputId": "be675bce-40b7-46ee-fa35-254ae06668be"
      },
      "source": [
        "import tensorflow as tf\n",
        "print(tf.version)"
      ],
      "execution_count": 6,
      "outputs": [
        {
          "output_type": "stream",
          "text": [
            "<module 'tensorflow._api.v2.version' from '/usr/local/lib/python3.7/dist-packages/tensorflow/_api/v2/version/__init__.py'>\n"
          ],
          "name": "stdout"
        }
      ]
    },
    {
      "cell_type": "markdown",
      "metadata": {
        "id": "HLIIpOlgULfA"
      },
      "source": [
        "# Tensor\n",
        "\"A tensor is a generalization of vectors and matrices to potentially higher dimensions. Internally, TensorFlow represents tensors as n-dimensional arrays of base datatypes.\" (https://www.tensorflow.org/guide/tensor)\n",
        "\n",
        "Each tensor represents a partialy defined computation that will eventually produce a value. TensorFlow programs work by building a graph of Tensor objects that details how tensors are related. Running different parts of the graph allow results to be generated.\n",
        "\n",
        "Each tensor has a data type and a shape.\n"
      ]
    },
    {
      "cell_type": "code",
      "metadata": {
        "colab": {
          "base_uri": "https://localhost:8080/"
        },
        "id": "1RyaB_KrTfZ1",
        "outputId": "aa32408d-b58a-4d21-d7e9-39262e56a860"
      },
      "source": [
        "# Creating Tenser (vector)\n",
        "tf.Variable([\"1\", \"2\", \"3\"], tf.string)"
      ],
      "execution_count": 11,
      "outputs": [
        {
          "output_type": "execute_result",
          "data": {
            "text/plain": [
              "<tf.Variable 'Variable:0' shape=(3,) dtype=string, numpy=array([b'1', b'2', b'3'], dtype=object)>"
            ]
          },
          "metadata": {
            "tags": []
          },
          "execution_count": 11
        }
      ]
    },
    {
      "cell_type": "markdown",
      "metadata": {
        "id": "tznU4XOlWW6Y"
      },
      "source": [
        "# Tensor Basics\n",
        "\n",
        "### Degree/Rank\n",
        "The number of dimensions in a tensor. In other words, number of lists within a tensor.\n",
        "\n",
        "```\n",
        "tf.rank(tensor)\n",
        "```\n",
        "\n",
        "### Shape\n",
        "Number of elements in a dimension.\n",
        "```\n",
        "tensor.shape\n",
        "```"
      ]
    },
    {
      "cell_type": "code",
      "metadata": {
        "colab": {
          "base_uri": "https://localhost:8080/"
        },
        "id": "YVIu0MDrZC7R",
        "outputId": "0cf98baf-b488-49c6-e206-8c705d461cef"
      },
      "source": [
        "# Reshaping of Tensor\n",
        "tensor1 = tf.ones(shape=[1, 2, 3])\n",
        "print(tensor1)\n",
        "tf.reshape(tensor1, shape=[1, 3, 2]) # reshaping tensor1\n",
        "tf.reshape(tensor1, [3, -1]) # -1 tells tensor to calculate the size of the dimension in that\n",
        "                             # place this will reshape tensor to [3, 2]"
      ],
      "execution_count": 16,
      "outputs": [
        {
          "output_type": "stream",
          "text": [
            "tf.Tensor(\n",
            "[[[1. 1. 1.]\n",
            "  [1. 1. 1.]]], shape=(1, 2, 3), dtype=float32)\n"
          ],
          "name": "stdout"
        },
        {
          "output_type": "execute_result",
          "data": {
            "text/plain": [
              "<tf.Tensor: shape=(3, 2), dtype=float32, numpy=\n",
              "array([[1., 1.],\n",
              "       [1., 1.],\n",
              "       [1., 1.]], dtype=float32)>"
            ]
          },
          "metadata": {
            "tags": []
          },
          "execution_count": 16
        }
      ]
    },
    {
      "cell_type": "markdown",
      "metadata": {
        "id": "zmBT6LHqbAf3"
      },
      "source": [
        "# Types of Tensors\n",
        "\n",
        "* Variable\n",
        "* Constant\n",
        "* Placeholder\n",
        "* SparseTensor\n",
        "\n",
        "All tensors except `Variable` are immutable."
      ]
    }
  ]
}