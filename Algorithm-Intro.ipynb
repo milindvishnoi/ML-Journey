{
  "nbformat": 4,
  "nbformat_minor": 0,
  "metadata": {
    "colab": {
      "name": "Algorithm-Intro.ipynb",
      "provenance": [],
      "collapsed_sections": [],
      "authorship_tag": "ABX9TyPDJ/tZN3meE2J014ySds09"
    },
    "kernelspec": {
      "name": "python3",
      "display_name": "Python 3"
    },
    "language_info": {
      "name": "python"
    }
  },
  "cells": [
    {
      "cell_type": "markdown",
      "metadata": {
        "id": "903tiCR_dCOX"
      },
      "source": [
        "# TensorFlow Core Learning Algorithms\n",
        "In this notebook we will walk through 4 fundemental machine learning algorithms with examples of it's application.\n",
        "\n",
        "The algorithms we will focus on include:\n",
        "\n",
        "* Linear Regression\n",
        "* Classification\n",
        "* Clustering\n",
        "* Hidden Markov Models"
      ]
    }
  ]
}